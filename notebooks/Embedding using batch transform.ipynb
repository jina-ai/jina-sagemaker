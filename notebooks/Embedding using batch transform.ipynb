{
 "cells": [
  {
   "cell_type": "markdown",
   "metadata": {},
   "source": [
    "# Embed large input using Batch Transform\n",
    "\n",
    "If you have extensive datasets that need embeddings using Jina's models, Amazon SageMaker's Batch Transform is a handy tool. Instead of processing embed input one-by-one, Batch Transform allows for bulk processing. Simply provide the path to your dataset in an S3 bucket and specify an output path. Once the transform job is completed, the embeddings will be uploaded to the designated S3 location."
   ]
  },
  {
   "cell_type": "markdown",
   "metadata": {},
   "source": [
    "## Pre-requisites:\n",
    "1. Ensure that IAM role used has **AmazonSageMakerFullAccess**\n",
    "1. To deploy model successfully, ensure that:\n",
    "    1. Either your IAM role has these three permissions and you have authority to make AWS Marketplace subscriptions in the AWS account used: \n",
    "        1. **aws-marketplace:ViewSubscriptions**\n",
    "        1. **aws-marketplace:Unsubscribe**\n",
    "        1. **aws-marketplace:Subscribe**  \n",
    "    2. or your AWS account has a subscription to the model package.\n",
    "\n",
    "# Model package setup"
   ]
  },
  {
   "cell_type": "markdown",
   "metadata": {},
   "source": [
    "Install `jina-sagemaker` package and other dependencies used in the notebook.\n",
    "\n",
    "\n",
    "```bash\n",
    "pip install --upgrade jina-sagemaker\n",
    "pip install datasets\n",
    "```"
   ]
  },
  {
   "cell_type": "code",
   "execution_count": 1,
   "metadata": {},
   "outputs": [],
   "source": [
    "# Specify the role as required by SageMaker\n",
    "role = \"...\""
   ]
  },
  {
   "cell_type": "code",
   "execution_count": 2,
   "metadata": {},
   "outputs": [],
   "source": [
    "import boto3\n",
    "\n",
    "region = boto3.Session().region_name\n",
    "\n",
    "# Mapping for Model Package Names\n",
    "model_name_map = {\n",
    "    \"jina-embeddings-v2-base-en\": \"jina-embeddings-v2-base-en-32555da8a0b431d190bf3eca46758b72\",\n",
    "    \"jina-embeddings-v2-small-en\": \"jina-embeddings-v2-small-en-0e950fb984e3396fa4e1108adf69937c\",\n",
    "    \"jina-embeddings-v2-base-code\": \"jina-embeddings-v2-base-code-7effc955e13e3c3aa0110bde043f9ead\",\n",
    "    \"jina-embeddings-v2-base-de\": \"jina-embeddings-v2-base-de-c269d166764133348365f57b8f1d8c7a\",\n",
    "    \"jina-embeddings-v2-base-es\": \"jina-embeddings-v2-base-es-3ae2ef99284e31dab5dd5a367620fc29\",\n",
    "    \"jina-embeddings-v2-base-zh\": \"jina-embeddings-v2-base-zh-4da30f467aaf347580ba5ed2648e399a\",\n",
    "    \"jina-clip-v1\": \"jina-embeddings-v2-base-zh-tbd\",\n",
    "    \"jina-reranker-v1-base-en\": \"jina-reranker-v1-base-en-77e50152c042315da374fb388ad6f40d\",\n",
    "    \"jina-reranker-v1-turbo-en\": \"jina-reranker-v1-turbo-en-643a1c3bd23a3b298cb4b6caf43eaf91\",\n",
    "    \"jina-reranker-v1-tiny-en\": \"jina-reranker-v1-tiny-en-209f8205ecad33c1a504ac85e9b79a53\",\n",
    "    \"jina-colbert-v1-en\": \"jina-colbert-v1-en-b5d8f6e93044340b8b02c554f9de20d9\",\n",
    "    \"jina-colbert-reranker-v1-en\": \"jina-colbert-reranker-v1-en-1000ef444ec931dbae4dc85828d08a8a\",\n",
    "}\n",
    "\n",
    "# Specify the model name, jina-embeddings-v2-base-en is picked here for example\n",
    "model_name = model_name_map[\"jina-embeddings-v2-base-en\"]\n",
    "\n",
    "# Mapping for Model Packages\n",
    "model_package_map = {\n",
    "    \"us-east-1\": f\"arn:aws:sagemaker:us-east-1:865070037744:model-package/{model_name}\",\n",
    "    \"us-east-2\": f\"arn:aws:sagemaker:us-east-2:057799348421:model-package/{model_name}\",\n",
    "    \"us-west-1\": f\"arn:aws:sagemaker:us-west-1:382657785993:model-package/{model_name}\",\n",
    "    \"us-west-2\": f\"arn:aws:sagemaker:us-west-2:594846645681:model-package/{model_name}\",\n",
    "    \"ca-central-1\": f\"arn:aws:sagemaker:ca-central-1:470592106596:model-package/{model_name}\",\n",
    "    \"eu-central-1\": f\"arn:aws:sagemaker:eu-central-1:446921602837:model-package/{model_name}\",\n",
    "    \"eu-west-1\": f\"arn:aws:sagemaker:eu-west-1:985815980388:model-package/{model_name}\",\n",
    "    \"eu-west-2\": f\"arn:aws:sagemaker:eu-west-2:856760150666:model-package/{model_name}\",\n",
    "    \"eu-west-3\": f\"arn:aws:sagemaker:eu-west-3:843114510376:model-package/{model_name}\",\n",
    "    \"eu-north-1\": f\"arn:aws:sagemaker:eu-north-1:136758871317:model-package/{model_name}\",\n",
    "    \"ap-southeast-1\": f\"arn:aws:sagemaker:ap-southeast-1:192199979996:model-package/{model_name}\",\n",
    "    \"ap-southeast-2\": f\"arn:aws:sagemaker:ap-southeast-2:666831318237:model-package/{model_name}\",\n",
    "    \"ap-northeast-2\": f\"arn:aws:sagemaker:ap-northeast-2:745090734665:model-package/{model_name}\",\n",
    "    \"ap-northeast-1\": f\"arn:aws:sagemaker:ap-northeast-1:977537786026:model-package/{model_name}\",\n",
    "    \"ap-south-1\": f\"arn:aws:sagemaker:ap-south-1:077584701553:model-package/{model_name}\",\n",
    "    \"sa-east-1\": f\"arn:aws:sagemaker:sa-east-1:270155090741:model-package/{model_name}\",\n",
    "}\n",
    "\n",
    "# Specify the model you want to use\n",
    "if region not in model_package_map.keys():\n",
    "    raise Exception(f\"Current boto3 session region {region} is not supported.\")\n",
    "\n",
    "model_package_arn = model_package_map[region]"
   ]
  },
  {
   "cell_type": "markdown",
   "metadata": {},
   "source": [
    "## Create the batch transform job\n",
    "\n",
    "### Input File\n",
    "\n",
    "Input file should be a CSV file either on S3 or locally. The CSV file should have the following properties:\n",
    "\n",
    "- **No Headers**: should not include a header row.\n",
    "- **CSV Quoting**: the text shouldn't contain surrounding quotes.\n",
    "- **Escape Characters**: escape character (`\\`) is used to prevent special characters from being interpreted as part of the CSV formatting.\n",
    "- **Column(s)**: each model package has different requirements for the input in each row. Please refer to the sample batch input CSV files in the `examples` directory of this repository.\n",
    "\n",
    "\n",
    "### Output File\n",
    "\n",
    "The output file will be a jsonlines file with extension `.out`. Each line will contain a list of documents IDs and their embeddings. The output file will be downloaded to the `output_path` if it is a local path. If it is an S3 path, the output file will be uploaded to the S3 bucket.\n",
    "\n",
    "### Example"
   ]
  },
  {
   "cell_type": "markdown",
   "metadata": {},
   "source": [
    "Let's download a sample dataset & store as a CSV in the expected format.\n",
    "And perform text embedding with `jina-embeddings-v2-base-en`."
   ]
  },
  {
   "cell_type": "code",
   "execution_count": 3,
   "metadata": {},
   "outputs": [],
   "source": [
    "def save_imdb_dataset(path: str, N: int = 100):\n",
    "    import csv\n",
    "    from datasets import load_dataset\n",
    "\n",
    "    dataset = load_dataset('imdb', split='train')\n",
    "    dataset.to_pandas().text.head(N).to_csv(\n",
    "        path, \n",
    "        header=False, # no header\n",
    "        index=False,\n",
    "        quoting=csv.QUOTE_NONE, # no quotes\n",
    "        escapechar='\\\\' # \\ is the escape character\n",
    "    )\n",
    "\n",
    "# Save the dataset\n",
    "save_imdb_dataset('imdb.csv')"
   ]
  },
  {
   "cell_type": "code",
   "execution_count": 5,
   "metadata": {},
   "outputs": [],
   "source": [
    "from jina_sagemaker import Client\n",
    "\n",
    "client = Client(region_name=region)\n",
    "\n",
    "input_path = 'imdb.csv' # local path to the dataset downloaded above\n",
    "output_path = 'output_dir' # local path to the output directory\n",
    "\n",
    "# Create a batch transform job with the model package\n",
    "client.create_transform_job(\n",
    "    arn=model_package_arn,\n",
    "    role=role,\n",
    "    n_instances=1,\n",
    "    instance_type=\"ml.g4dn.xlarge\",\n",
    "    input_path=input_path,\n",
    "    output_path=output_path,\n",
    "    logs=False\n",
    ")\n"
   ]
  },
  {
   "cell_type": "markdown",
   "metadata": {},
   "source": [
    "Depending on the size of your dataset, this may take a few minutes. The output file will be stored on S3 and downloaded to the `output_path` directory."
   ]
  },
  {
   "cell_type": "markdown",
   "metadata": {},
   "source": [
    "### Limitations\n",
    "\n",
    "By default, SageMaker Batch Transform jobs do not have internet access. If you are using `jina-clip-v1` and specify URLs in the CSV input for the Batch Transform job, it won't be able to access the image content.\n",
    "\n",
    "However, you can [configure Batch Transform jobs to open up access](https://docs.aws.amazon.com/sagemaker/latest/dg/batch-vpc.html) to bypass this issue."
   ]
  }
 ],
 "metadata": {
  "kernelspec": {
   "display_name": "default38",
   "language": "python",
   "name": "python3"
  },
  "language_info": {
   "codemirror_mode": {
    "name": "ipython",
    "version": 3
   },
   "file_extension": ".py",
   "mimetype": "text/x-python",
   "name": "python",
   "nbconvert_exporter": "python",
   "pygments_lexer": "ipython3",
   "version": "3.10.6"
  },
  "orig_nbformat": 4
 },
 "nbformat": 4,
 "nbformat_minor": 2
}
