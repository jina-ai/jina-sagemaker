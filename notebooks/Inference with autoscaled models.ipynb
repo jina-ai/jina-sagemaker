{
 "cells": [
  {
   "cell_type": "markdown",
   "metadata": {},
   "source": [
    "# Inference with Autoscaled Models\n",
    "\n",
    "If [statically provisioned instances](./Real-time%20inference.ipynb) don't meet your needs, Amazon SageMaker offers [automatic scaling](https://aws.amazon.com/blogs/machine-learning/amazon-sagemaker-inference-launches-faster-auto-scaling-for-generative-ai-models/) for your hosted models. This allows the number of instances allocated for a model to dynamically adjust based on traffic demand, ensuring your deployment is both cost-effective and adept at managing varying traffic loads."
   ]
  },
  {
   "cell_type": "markdown",
   "metadata": {},
   "source": [
    "## Prerequisites:\n",
    "\n",
    "1. This notebook should be rendered correctly in the Jupyter interface and can be executed either within an Amazon SageMaker Notebook Instance or Amazon SageMaker Studio.\n",
    "2. Ensure that the IAM role being used has **AmazonSageMakerFullAccess**.\n",
    "3. To successfully deploy the ML model, ensure that:\n",
    "    1. Either your IAM role has the following three permissions and you have authority to make AWS Marketplace subscriptions in the AWS account:\n",
    "        - **aws-marketplace:ViewSubscriptions**\n",
    "        - **aws-marketplace:Unsubscribe**\n",
    "        - **aws-marketplace:Subscribe**\n",
    "    2. Or, your AWS account already has a subscription to the model."
   ]
  },
  {
   "cell_type": "markdown",
   "metadata": {},
   "source": [
    "# Model package setup\n",
    "\n",
    "Please first subscribe to the model package(s) from AWS Marketplace.\n",
    "\n",
    "\n",
    "And then let's install `jina-sagemaker` package and get the model package ARN using code below.\n"
   ]
  },
  {
   "cell_type": "markdown",
   "metadata": {},
   "source": [
    "# Model package setup\n",
    "\n",
    "Please first subscribe to the model package(s) from AWS Marketplace.\n",
    "\n",
    "And then let's install `jina-sagemaker` package and get the model package ARN using code below."
   ]
  },
  {
   "cell_type": "code",
   "execution_count": null,
   "metadata": {},
   "outputs": [],
   "source": [
    "!pip install --upgrade jina-sagemaker\n",
    "\n",
    "\n",
    "import boto3\n",
    "\n",
    "region = boto3.Session().region_name\n",
    "\n",
    "# Specify the role as required by SageMaker\n",
    "role = \"\"\n",
    "\n",
    "# Specify the model package name, which you can obtain from the Product ARN in the AWS console. Please exclude the ‘arn:aws:sagemaker:xx-xx-x:xxxx:model-package’ prefix\n",
    "model_package_name = \"\"\n",
    "\n",
    "# Mapping for product ARN\n",
    "def get_arn_for_model(region_name, model_name):\n",
    "    model_package_map = {\n",
    "        \"us-east-1\": f\"arn:aws:sagemaker:us-east-1:253352124568:model-package/{model_name}\",\n",
    "        \"us-east-2\": f\"arn:aws:sagemaker:us-east-2:057799348421:model-package/{model_name}\",\n",
    "        \"us-west-1\": f\"arn:aws:sagemaker:us-west-1:382657785993:model-package/{model_name}\",\n",
    "        \"us-west-2\": f\"arn:aws:sagemaker:us-west-2:594846645681:model-package/{model_name}\",\n",
    "        \"ca-central-1\": f\"arn:aws:sagemaker:ca-central-1:470592106596:model-package/{model_name}\",\n",
    "        \"eu-central-1\": f\"arn:aws:sagemaker:eu-central-1:446921602837:model-package/{model_name}\",\n",
    "        \"eu-west-1\": f\"arn:aws:sagemaker:eu-west-1:985815980388:model-package/{model_name}\",\n",
    "        \"eu-west-2\": f\"arn:aws:sagemaker:eu-west-2:856760150666:model-package/{model_name}\",\n",
    "        \"eu-west-3\": f\"arn:aws:sagemaker:eu-west-3:843114510376:model-package/{model_name}\",\n",
    "        \"eu-north-1\": f\"arn:aws:sagemaker:eu-north-1:136758871317:model-package/{model_name}\",\n",
    "        \"ap-southeast-1\": f\"arn:aws:sagemaker:ap-southeast-1:192199979996:model-package/{model_name}\",\n",
    "        \"ap-southeast-2\": f\"arn:aws:sagemaker:ap-southeast-2:666831318237:model-package/{model_name}\",\n",
    "        \"ap-northeast-2\": f\"arn:aws:sagemaker:ap-northeast-2:745090734665:model-package/{model_name}\",\n",
    "        \"ap-northeast-1\": f\"arn:aws:sagemaker:ap-northeast-1:977537786026:model-package/{model_name}\",\n",
    "        \"ap-south-1\": f\"arn:aws:sagemaker:ap-south-1:077584701553:model-package/{model_name}\",\n",
    "        \"sa-east-1\": f\"arn:aws:sagemaker:sa-east-1:270155090741:model-package/{model_name}\",\n",
    "    }\n",
    "\n",
    "    return model_package_map[region_name]\n",
    "\n",
    "model_package_arn = get_arn_for_model(region, model_package_name)"
   ]
  },
  {
   "cell_type": "markdown",
   "metadata": {},
   "source": [
    "# Create an endpoint that automatically scales\n",
    "\n",
    "In this section, we configure an autoscaling endpoint that leverages Target tracking scaling, which scales your application based on a target metric value. For an in-depth understanding of Target tracking scaling, you can refer to the [Documentations](https://docs.aws.amazon.com/autoscaling/application/userguide/application-auto-scaling-target-tracking.html)."
   ]
  },
  {
   "cell_type": "code",
   "execution_count": null,
   "metadata": {},
   "outputs": [],
   "source": [
    "from jina_sagemaker import Client\n",
    "\n",
    "client = Client(region_name=region)\n",
    "client.create_endpoint(arn=model_package_arn, role=role, endpoint_name=\"my-autoscaling-endpoint\", instance_type=\"ml.g4dn.xlarge\", n_instances=2)\n",
    "\n",
    "# If the endpoint is already created, you just need to connect to it\n",
    "# client.connect_to_endpoint(endpoint_name=\"my-autoscaling_endpoint\", arn=model_package_arn)\n",
    "\n",
    "client.register_scalable_target(\n",
    "    max_capacity=10,\n",
    "    min_capacity=1\n",
    ")\n",
    "client.set_target_tracking_autoscaling(\n",
    "    policy_name=\"my_target_tracking_policy\",\n",
    "    policy_configuration = {\n",
    "        'TargetValue': 5,  # Trigger scaling when concurrent requests per model reach 5\n",
    "        'PredefinedMetricSpecification': {\n",
    "            'PredefinedMetricType': 'SageMakerVariantConcurrentRequestsPerModelHighResolution'\n",
    "        },\n",
    "        'ScaleInCooldown': 60,\n",
    "        'ScaleOutCooldown': 60\n",
    "    }\n",
    ")"
   ]
  },
  {
   "cell_type": "markdown",
   "metadata": {},
   "source": [
    "Adjust the `min_capacity` and `max_capacity` parameters based on your anticipated traffic and budget. The `TargetValue` is set to 5, meaning auto-scaling will trigger when concurrent requests reach or exceed 5.\n",
    "\n",
    "If you prefer using [step scaling](https://docs.aws.amazon.com/autoscaling/application/userguide/application-auto-scaling-step-scaling-policies.html), that’s also an option, but we won’t go into detail here."
   ]
  },
  {
   "cell_type": "markdown",
   "metadata": {},
   "source": [
    "# Perform real-time inference\n",
    "\n",
    "You can invoke the endpoint using the APIs provided by `jina-sagemaker` in your application. As concurrency levels increase, the auto scaling policies will scale out the resources and scale them back in once the load returns to the original target value."
   ]
  },
  {
   "cell_type": "code",
   "execution_count": null,
   "metadata": {},
   "outputs": [],
   "source": [
    "result = client.embed(texts=[\n",
    "    \"how is the weather today\", \n",
    "    \"what is the weather like today\",\n",
    "    \"what's the color of an orange\",\n",
    "])"
   ]
  },
  {
   "cell_type": "markdown",
   "metadata": {},
   "source": [
    "# Clean-up"
   ]
  },
  {
   "cell_type": "markdown",
   "metadata": {},
   "source": [
    "## Delete the model"
   ]
  },
  {
   "cell_type": "code",
   "execution_count": null,
   "metadata": {},
   "outputs": [],
   "source": [
    "client.delete_endpoint()\n",
    "client.close()"
   ]
  },
  {
   "cell_type": "markdown",
   "metadata": {},
   "source": [
    "## Unsubscribe to the listing (optional)\n",
    "\n",
    "If you would like to unsubscribe to the model package, follow these steps. Before you cancel the subscription, ensure that you do not have any [deployable model](https://console.aws.amazon.com/sagemaker/home#/models) created from the model package or using the algorithm. Note - You can find this information by looking at the container name associated with the model. \n",
    "\n",
    "**Steps to unsubscribe to product from AWS Marketplace**:\n",
    "1. Navigate to __Machine Learning__ tab on [__Your Software subscriptions page__](https://aws.amazon.com/marketplace/ai/library?productType=ml&ref_=mlmp_gitdemo_indust)\n",
    "2. Locate the listing that you want to cancel the subscription for, and then choose __Cancel Subscription__  to cancel the subscription.\n"
   ]
  }
 ],
 "metadata": {
  "kernelspec": {
   "display_name": "env",
   "language": "python",
   "name": "python3"
  },
  "language_info": {
   "codemirror_mode": {
    "name": "ipython",
    "version": 3
   },
   "file_extension": ".py",
   "mimetype": "text/x-python",
   "name": "python",
   "nbconvert_exporter": "python",
   "pygments_lexer": "ipython3",
   "version": "3.8.16"
  }
 },
 "nbformat": 4,
 "nbformat_minor": 2
}
