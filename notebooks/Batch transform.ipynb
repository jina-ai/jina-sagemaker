{
 "cells": [
  {
   "cell_type": "markdown",
   "metadata": {},
   "source": [
    "# Embed large text files using Batch Transform\n",
    "\n",
    "If you have extensive text datasets that need embeddings using Jina's models, Amazon SageMaker's Batch Transform is a handy tool. Instead of processing text one-by-one, Batch Transform allows for bulk processing. Simply provide the path to your dataset in an S3 bucket and specify an output path. Once the transform job is completed, the embeddings will be uploaded to the designated S3 location."
   ]
  },
  {
   "cell_type": "code",
   "execution_count": null,
   "metadata": {},
   "outputs": [],
   "source": [
    "# !pip install --upgrade jina-sagemaker"
   ]
  },
  {
   "cell_type": "code",
   "execution_count": 1,
   "metadata": {},
   "outputs": [],
   "source": [
    "from jina_sagemaker import Client\n",
    "import boto3\n",
    "\n",
    "region = boto3.Session().region_name\n",
    "\n",
    "# Specify the role if needed\n",
    "role = \"\"\n",
    "role = 'arn:aws:iam::253352124568:role/service-role/AmazonSageMaker-ExecutionRole-20230527T104084'\n",
    "\n",
    "# Specify the model name\n",
    "model_name = \"jina-embedding-l-en-v1\"\n",
    "\n",
    "# Mapping for Model Packages\n",
    "model_package_map = {\n",
    "    \"us-east-1\": f\"arn:aws:sagemaker:us-east-1:253352124568:model-package/{model_name}\",\n",
    "}\n",
    "\n",
    "# Specify the model you want to use\n",
    "if region not in model_package_map.keys():\n",
    "    raise Exception(f\"Current boto3 session region {region} is not supported.\")\n",
    "\n",
    "model_package_arn = model_package_map[region]"
   ]
  },
  {
   "cell_type": "markdown",
   "metadata": {},
   "source": [
    "## Create the batch transform job\n",
    "\n",
    "#### Gotchas\n",
    "\n",
    "- The input file must be a CSV file with no headers. \n",
    "- If the input file resides on S3, it should have two columns: the first for the document ID and the second for the text to be embedded. \n",
    "- If the input is a local file, only the text column is required. The client will dynamically generate the document IDs as needed. \n",
    "- The output file is a jsonlines file with extension (.out) with the document ID and the embedding."
   ]
  },
  {
   "cell_type": "code",
   "execution_count": 5,
   "metadata": {},
   "outputs": [
    {
     "name": "stderr",
     "output_type": "stream",
     "text": [
      "INFO:sagemaker:Creating model with name: jina-embedding-l-en-v1\n",
      "WARNING:sagemaker:Using already existing model: jina-embedding-l-en-v1\n",
      "INFO:sagemaker:Creating transform job with name: jina-embedding-l-en-v1-2023-10-12-08-51-41-040\n"
     ]
    },
    {
     "name": "stdout",
     "output_type": "stream",
     "text": [
      "........................................................................!\n",
      "Output downloaded to output_dir.\n"
     ]
    }
   ],
   "source": [
    "client = Client(region_name=region)\n",
    "\n",
    "# input_data_path_batch = \"s3://sagemaker-us-east-1-253352124568/a.csv\"\n",
    "# output_data_path = \"s3://sagemaker-us-east-1-253352124568/output/a\"\n",
    "\n",
    "input_data_path_batch = 'batch_transform_dummy_input/input.csv'\n",
    "output_data_path = 'output_dir'\n",
    "\n",
    "client.create_transform_job(\n",
    "    arn=model_package_arn,\n",
    "    role=role,\n",
    "    n_instances=1,\n",
    "    instance_type=\"ml.g4dn.xlarge\",\n",
    "    input_path=input_data_path_batch,\n",
    "    output_path=output_data_path,\n",
    "    logs=False\n",
    ")"
   ]
  }
 ],
 "metadata": {
  "kernelspec": {
   "display_name": "default38",
   "language": "python",
   "name": "python3"
  },
  "language_info": {
   "codemirror_mode": {
    "name": "ipython",
    "version": 3
   },
   "file_extension": ".py",
   "mimetype": "text/x-python",
   "name": "python",
   "nbconvert_exporter": "python",
   "pygments_lexer": "ipython3",
   "version": "3.10.6"
  },
  "orig_nbformat": 4
 },
 "nbformat": 4,
 "nbformat_minor": 2
}
