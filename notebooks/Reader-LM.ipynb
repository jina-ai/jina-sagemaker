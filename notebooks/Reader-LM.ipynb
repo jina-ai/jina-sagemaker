{
 "cells": [
  {
   "cell_type": "markdown",
   "metadata": {},
   "source": [
    "# Inference with Jina Reader-LM Model Package\n",
    "\n",
    "This notebook shows you how to deploy the [Jina Reader-LM](https://jina.ai/news/reader-lm-small-language-models-for-cleaning-and-converting-html-to-markdown) models using [ReaderLM v2 on Amazon SageMaker]([reader-lm-v2](https://aws.amazon.com/marketplace/pp/prodview-jwfct4j4rvxk2?sr=0-21&ref_=beagle&applicationId=AWSMPContessa)) and perform inference with it:\n",
    "\n",
    "\n",
    "## Prerequisites:\n",
    "\n",
    "1. This notebook should be rendered correctly in the Jupyter interface and can be executed either within an Amazon SageMaker Notebook Instance or Amazon SageMaker Studio.\n",
    "2. Ensure that the IAM role being used has **AmazonSageMakerFullAccess**.\n",
    "3. To successfully deploy this ML model, ensure that:\n",
    "    1. Either your IAM role has the following three permissions and you have authority to make AWS Marketplace subscriptions in the AWS account:\n",
    "        - **aws-marketplace:ViewSubscriptions**\n",
    "        - **aws-marketplace:Unsubscribe**\n",
    "        - **aws-marketplace:Subscribe**\n",
    "    2. Or, your AWS account already has a subscription to this model."
   ]
  },
  {
   "cell_type": "markdown",
   "metadata": {},
   "source": [
    "# Contents:\n",
    "1. [Model package setup](#model-package-setup)\n",
    "2. [Inference](#-inference)\n",
    "3. [Clean-up](#clean-up)\n",
    "    1. [Delete the model](#delete-the-model)\n",
    "    2. [Unsubscribe to the listing (optional)](#unsubscribe-to-the-listing-optional)"
   ]
  },
  {
   "cell_type": "markdown",
   "metadata": {},
   "source": [
    "# Model package setup"
   ]
  },
  {
   "cell_type": "markdown",
   "metadata": {},
   "source": [
    "Please first subscribe to the model package(s) from AWS Marketplace [here](https://aws.amazon.com/marketplace/pp/prodview-5iljbegvoi66w)."
   ]
  },
  {
   "cell_type": "markdown",
   "metadata": {},
   "source": [
    "And then let's install `jina-sagemaker` package and get the model package ARN(s) using code below."
   ]
  },
  {
   "cell_type": "code",
   "execution_count": null,
   "metadata": {},
   "outputs": [],
   "source": [
    "!pip install --upgrade jina-sagemaker\n",
    "\n",
    "import boto3\n",
    "\n",
    "region = boto3.Session().region_name\n",
    "\n",
    "# Specify the role as required by SageMaker\n",
    "role = \"\"\n",
    "\n",
    "# Model package name\n",
    "model_package_name = \"reader-lm-v2-be194f1fc4803c31ba8b28ffca3665b8\"\n",
    "\n",
    "# Mapping for product ARN\n",
    "def get_arn_for_model(region_name, model_name):\n",
    "    model_package_map = {\n",
    "        \"us-east-1\": f\"arn:aws:sagemaker:us-east-1:253352124568:model-package/{model_name}\",\n",
    "        \"us-east-2\": f\"arn:aws:sagemaker:us-east-2:057799348421:model-package/{model_name}\",\n",
    "        \"us-west-1\": f\"arn:aws:sagemaker:us-west-1:382657785993:model-package/{model_name}\",\n",
    "        \"us-west-2\": f\"arn:aws:sagemaker:us-west-2:594846645681:model-package/{model_name}\",\n",
    "        \"ca-central-1\": f\"arn:aws:sagemaker:ca-central-1:470592106596:model-package/{model_name}\",\n",
    "        \"eu-central-1\": f\"arn:aws:sagemaker:eu-central-1:446921602837:model-package/{model_name}\",\n",
    "        \"eu-west-1\": f\"arn:aws:sagemaker:eu-west-1:985815980388:model-package/{model_name}\",\n",
    "        \"eu-west-2\": f\"arn:aws:sagemaker:eu-west-2:856760150666:model-package/{model_name}\",\n",
    "        \"eu-west-3\": f\"arn:aws:sagemaker:eu-west-3:843114510376:model-package/{model_name}\",\n",
    "        \"eu-north-1\": f\"arn:aws:sagemaker:eu-north-1:136758871317:model-package/{model_name}\",\n",
    "        \"ap-southeast-1\": f\"arn:aws:sagemaker:ap-southeast-1:192199979996:model-package/{model_name}\",\n",
    "        \"ap-southeast-2\": f\"arn:aws:sagemaker:ap-southeast-2:666831318237:model-package/{model_name}\",\n",
    "        \"ap-northeast-2\": f\"arn:aws:sagemaker:ap-northeast-2:745090734665:model-package/{model_name}\",\n",
    "        \"ap-northeast-1\": f\"arn:aws:sagemaker:ap-northeast-1:977537786026:model-package/{model_name}\",\n",
    "        \"ap-south-1\": f\"arn:aws:sagemaker:ap-south-1:077584701553:model-package/{model_name}\",\n",
    "        \"sa-east-1\": f\"arn:aws:sagemaker:sa-east-1:270155090741:model-package/{model_name}\",\n",
    "    }\n",
    "\n",
    "    return model_package_map[region_name]\n",
    "\n",
    "model_package_arn = get_arn_for_model(region, model_package_name)"
   ]
  },
  {
   "cell_type": "markdown",
   "metadata": {},
   "source": [
    "---"
   ]
  },
  {
   "cell_type": "markdown",
   "metadata": {},
   "source": [
    "# Inference\n",
    "\n",
    "To learn about real-time inference capabilities in Amazon SageMaker, please refer to the [Documentation](https://docs.aws.amazon.com/sagemaker/latest/dg/realtime-endpoints.html).\n",
    "\n",
    "Let's create an endpoint that uses Jina Reader-LM for inferencing."
   ]
  },
  {
   "cell_type": "code",
   "execution_count": null,
   "metadata": {},
   "outputs": [],
   "source": [
    "from jina_sagemaker import Client, InputType\n",
    "\n",
    "client = Client(region_name=region)\n",
    "endpoint_name = \"my-endpoint\""
   ]
  },
  {
   "cell_type": "markdown",
   "metadata": {},
   "source": [
    "We can create a new endpoint using the `create_endpoint` method and passing the required parameters like `instance_type`, `n_instances` etc."
   ]
  },
  {
   "cell_type": "code",
   "execution_count": null,
   "metadata": {},
   "outputs": [],
   "source": [
    "client.create_endpoint(\n",
    "    arn=model_package_arn, \n",
    "    role=role, \n",
    "    endpoint_name=endpoint_name, \n",
    "    instance_type=\"ml.g4dn.xlarge\", \n",
    "    n_instances=1,\n",
    ")"
   ]
  },
  {
   "cell_type": "markdown",
   "metadata": {},
   "source": [
    "Or, we can connect to an existing endpoint using the `connect_to_endpoint` method by passing the endpoint name."
   ]
  },
  {
   "cell_type": "code",
   "execution_count": null,
   "metadata": {},
   "outputs": [],
   "source": [
    "client.connect_to_endpoint(endpoint_name=endpoint_name, arn=model_package_arn)"
   ]
  },
  {
   "cell_type": "markdown",
   "metadata": {},
   "source": [
    "Now let's try out the inference."
   ]
  },
  {
   "cell_type": "markdown",
   "metadata": {},
   "source": [
    "### Usage with `jina-sagemaker` sdk"
   ]
  },
  {
   "cell_type": "markdown",
   "metadata": {},
   "source": [
    "First, construct the prompt using create_prompt, where you can specify the desired return format."
   ]
  },
  {
   "cell_type": "code",
   "execution_count": null,
   "metadata": {},
   "outputs": [],
   "source": [
    "def create_prompt(text: str, return_type: str, instruction: str = None, schema: str = None):\n",
    "    \"\"\"\n",
    "    Creates a prompt based on the specified return type (either 'json' or 'markdown').\n",
    "    \n",
    "    Parameters:\n",
    "    - text (str): The HTML content that needs to be converted into the desired format.\n",
    "    - return_type (str): The desired return format. It must be either \"json\" or \"markdown\".\n",
    "    - instruction (str): The instruction to be included in the prompt. If not provided, a default instruction is used.\n",
    "    - schema (str): The JSON schema for structuring the output (used only for 'json' return_type). If empty, no schema is included.\n",
    "\n",
    "    \"\"\"\n",
    "    \n",
    "    if return_type not in [\"json\", \"markdown\"]:\n",
    "        raise ValueError(\"Invalid return_type. Must be 'json' or 'markdown'.\")\n",
    "    \n",
    "    if return_type == \"json\":\n",
    "        if not instruction:\n",
    "            instruction = \"Extract the main content from the given HTML and convert it in a structured JSON format.\"\n",
    "\n",
    "        if schema:\n",
    "            prompt = f\"{instruction}\\n```html\\n{text}\\n```\\nThe JSON schema is as follows:```json{schema}```\" \n",
    "        else:\n",
    "            prompt = f\"{instruction}\\n```html\\n{text}\\n```\"\n",
    "    \n",
    "    elif return_type == \"markdown\":\n",
    "        if not instruction:\n",
    "            instruction = \"Extract the main content from the given HTML and convert it to Markdown format.\"\n",
    "        prompt = f\"{instruction}\\n```html\\n{text}\\n```\"\n",
    "    \n",
    "    return prompt\n",
    "\n",
    "html = \"\"\"\n",
    "<!DOCTYPE html>\n",
    "<html lang=\"en\">\n",
    "<head>\n",
    "    <meta charset=\"UTF-8\">\n",
    "    <meta name=\"viewport\" content=\"width=device-width, initial-scale=1.0\">\n",
    "    <title>Phone Book</title>\n",
    "</head>\n",
    "<body>\n",
    "    <h1>Phone Book</h1>\n",
    "    <div class=\"contact\">\n",
    "        <h2>John Doe</h2>\n",
    "        <p>Email: <a href=\"mailto:john.doe@example.com\">john.doe@example.com</a></p>\n",
    "    </div>\n",
    "    <div class=\"contact\">\n",
    "        <h2>Jane Smith</h2>\n",
    "        <p>Email: <a href=\"mailto:jane.smith@example.com\">jane.smith@example.com</a></p>\n",
    "    </div>\n",
    "</body>\n",
    "</html>\n",
    "\"\"\"\n",
    "\n",
    "prompt = create_prompt(return_type=\"markdown\", text=html)\n",
    "print(prompt)"
   ]
  },
  {
   "cell_type": "code",
   "execution_count": null,
   "metadata": {},
   "outputs": [],
   "source": [
    "result = client.read(prompt=prompt)"
   ]
  },
  {
   "cell_type": "markdown",
   "metadata": {},
   "source": [
    "### Usage with aws-sdk\n",
    "\n",
    "Create a input file `input.json` with the following content."
   ]
  },
  {
   "cell_type": "markdown",
   "metadata": {},
   "source": [
    "```json\n",
    "{\n",
    "    \"model\": \"ReaderLM-v2\",\n",
    "    \"prompt\": \"Extract the main content from the given HTML and convert it to Markdown format.\\n```html\\n<!DOCTYPE html><html lang=\\\"en\\\"><head><meta charset=\\\"UTF-8\\\"><meta name=\\\"viewport\\\" content=\\\"width=device-width, initial-scale=1.0\\\"><title>Phone Book</title></head><body><h1>Phone Book</h1><div class=\\\"contact\\\"><h2>John Doe</h2><p>Email: <a href=\\\"mailto:john.doe@example.com\\\">john.doe@example.com</a></p></div><div class=\\\"contact\\\"><h2>Jane Smith</h2><p>Email: <a href=\\\"mailto:jane.smith@example.com\\\">jane.smith@example.com</a></p></div></body></html>\\n```\",\n",
    "    \"stream\": false\n",
    "}\n",
    "```"
   ]
  },
  {
   "cell_type": "markdown",
   "metadata": {},
   "source": [
    "Run the AWS `invoke-endpoint` CLI."
   ]
  },
  {
   "cell_type": "code",
   "execution_count": null,
   "metadata": {
    "vscode": {
     "languageId": "bat"
    }
   },
   "outputs": [],
   "source": [
    "aws sagemaker-runtime invoke-endpoint \\\n",
    "--endpoint-name <endpoint-name> \\\n",
    "--content-type 'application/json' \\\n",
    "--body fileb://input.json \\\n",
    "output.json"
   ]
  },
  {
   "cell_type": "markdown",
   "metadata": {},
   "source": [
    "# Clean-up"
   ]
  },
  {
   "cell_type": "markdown",
   "metadata": {},
   "source": [
    "## Delete the model"
   ]
  },
  {
   "cell_type": "code",
   "execution_count": null,
   "metadata": {},
   "outputs": [],
   "source": [
    "client.delete_endpoint()\n",
    "client.close()"
   ]
  },
  {
   "cell_type": "markdown",
   "metadata": {},
   "source": [
    "## Unsubscribe to the listing (optional)\n",
    "\n",
    "If you would like to unsubscribe to the model package, follow these steps. Before you cancel the subscription, ensure that you do not have any [deployable model](https://console.aws.amazon.com/sagemaker/home#/models) created from the model package or using the algorithm. Note - You can find this information by looking at the container name associated with the model. \n",
    "\n",
    "**Steps to unsubscribe to product from AWS Marketplace**:\n",
    "1. Navigate to __Machine Learning__ tab on [__Your Software subscriptions page__](https://aws.amazon.com/marketplace/ai/library?productType=ml&ref_=mlmp_gitdemo_indust)\n",
    "2. Locate the listing that you want to cancel the subscription for, and then choose __Cancel Subscription__  to cancel the subscription.\n"
   ]
  }
 ],
 "metadata": {
  "kernelspec": {
   "display_name": "env",
   "language": "python",
   "name": "python3"
  },
  "language_info": {
   "codemirror_mode": {
    "name": "ipython",
    "version": 3
   },
   "file_extension": ".py",
   "mimetype": "text/x-python",
   "name": "python",
   "nbconvert_exporter": "python",
   "pygments_lexer": "ipython3",
   "version": "3.10.16"
  }
 },
 "nbformat": 4,
 "nbformat_minor": 2
}
