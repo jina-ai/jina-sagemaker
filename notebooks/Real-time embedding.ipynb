{
 "cells": [
  {
   "cell_type": "markdown",
   "metadata": {},
   "source": []
  },
  {
   "attachments": {},
   "cell_type": "markdown",
   "metadata": {},
   "source": [
    "# Real-time Inference with Jina Embedding Model Package\n",
    "\n",
    "This notebook shows you how to deploy the following embedding models using Amazon SageMaker and perform inference with it:\n",
    "\n",
    "- [jina-embeddings-v3](https://aws.amazon.com/marketplace/pp/prodview-kdi3xkt62lo32)\n",
    "- [jina-embeddings-v2-base-en](https://aws.amazon.com/marketplace/pp/prodview-5iljbegvoi66w?sr=0-1&ref_=beagle&applicationId=AWSMPContessa)\n",
    "- [jina-embeddings-v2-small-en](https://aws.amazon.com/marketplace/pp/prodview-6w6k6ckusixpw?sr=0-11&ref_=beagle&applicationId=AWSMPContessa)\n",
    "- [jina-embeddings-v2-base-code](https://aws.amazon.com/marketplace/pp/prodview-tk7t7bz6fp5ng?sr=0-2&ref_=beagle&applicationId=AWSMPContessa)\n",
    "- [jina-embeddings-v2-base-de](https://aws.amazon.com/marketplace/pp/prodview-dz3ubvmivnwry?sr=0-9&ref_=beagle&applicationId=AWSMPContessa)\n",
    "- [jina-embeddings-v2-base-es](https://aws.amazon.com/marketplace/pp/prodview-rnb324fpie3n6?sr=0-6&ref_=beagle&applicationId=AWSMPContessa)\n",
    "- [jina-embeddings-v2-base-zh](https://aws.amazon.com/marketplace/pp/prodview-hxalozh37jka4?sr=0-8&ref_=beagle&applicationId=AWSMPContessa)\n",
    "- [jina-clip-v1](https://aws.amazon.com/marketplace/pp/prodview-ziq7vwjkeqgl6?sr=0-13&ref_=beagle&applicationId=AWSMPContessa)\n",
    "- [jina-clip-v2](https://aws.amazon.com/marketplace/pp/prodview-bfbctuqmky676?sr=0-1&ref_=beagle&applicationId=AWSMPContessa)\n",
    "\n",
    "## Pre-requisites:\n",
    "1. Ensure that IAM role used has **AmazonSageMakerFullAccess**\n",
    "1. To deploy model successfully, ensure that:\n",
    "    1. Either your IAM role has these three permissions and you have authority to make AWS Marketplace subscriptions in the AWS account used: \n",
    "        1. **aws-marketplace:ViewSubscriptions**\n",
    "        1. **aws-marketplace:Unsubscribe**\n",
    "        1. **aws-marketplace:Subscribe**  \n",
    "    2. or your AWS account has a subscription to above model(s).\n",
    "\n",
    "## Contents:\n",
    "1. [Subscribe to the model package](#1.-Model-package-setup)\n",
    "2. [Real-time inference](#2.-Real-time-inference)\n",
    "3. [Clean-up](#4.-Clean-up)\n",
    "    1. [Delete the model](#A.-Delete-the-model)\n",
    "    2. [Unsubscribe to the listing (optional)](#B.-Unsubscribe-to-the-listing-(optional))"
   ]
  },
  {
   "cell_type": "markdown",
   "metadata": {},
   "source": [
    "# 1. Model package setup"
   ]
  },
  {
   "cell_type": "markdown",
   "metadata": {},
   "source": [
    "Please subscribe to the model package from AWS Marketplace."
   ]
  },
  {
   "cell_type": "markdown",
   "metadata": {},
   "source": [
    "Install `jina-sagemaker` package \n",
    "\n",
    "\n",
    "```bash\n",
    "pip install --upgrade jina-sagemaker\n",
    "```"
   ]
  },
  {
   "cell_type": "code",
   "execution_count": null,
   "metadata": {},
   "outputs": [],
   "source": [
    "# Specify the role as required by SageMaker\n",
    "role = \"...\""
   ]
  },
  {
   "cell_type": "code",
   "execution_count": null,
   "metadata": {},
   "outputs": [],
   "source": [
    "import boto3\n",
    "\n",
    "region = boto3.Session().region_name\n",
    "\n",
    "# Mapping for Model Package Names\n",
    "model_name_map = {\n",
    "    \"jina-embeddings-v3\": \"jina-embeddings-v3-380c5162a0bb3239903a3ca66ce3cb80\",\n",
    "    \"jina-embeddings-v2-base-en\": \"jina-embeddings-v2-base-en-32555da8a0b431d190bf3eca46758b72\",\n",
    "    \"jina-embeddings-v2-small-en\": \"jina-embeddings-v2-small-en-0e950fb984e3396fa4e1108adf69937c\",\n",
    "    \"jina-embeddings-v2-base-code\": \"jina-embeddings-v2-base-code-7effc955e13e3c3aa0110bde043f9ead\",\n",
    "    \"jina-embeddings-v2-base-de\": \"jina-embeddings-v2-base-de-c269d166764133348365f57b8f1d8c7a\",\n",
    "    \"jina-embeddings-v2-base-es\": \"jina-embeddings-v2-base-es-3ae2ef99284e31dab5dd5a367620fc29\",\n",
    "    \"jina-embeddings-v2-base-zh\": \"jina-embeddings-v2-base-zh-4da30f467aaf347580ba5ed2648e399a\",\n",
    "    \"jina-clip-v1\": \"jina-clip-v1-7683e52e25283504b908b50e841fbb98\",\n",
    "    \"jina-clip-v2\": \"jina-clip-v1-e0aa7ada4c493ae4896cd249e7330158\",\n",
    "}\n",
    "\n",
    "# Specify the model name, jina-embeddings-v3 is picked here for example\n",
    "model_name = model_name_map[\"jina-embeddings-v3\"]\n",
    "\n",
    "# Mapping for Model Packages\n",
    "model_package_map = {\n",
    "    \"us-east-1\": f\"arn:aws:sagemaker:us-east-1:865070037744:model-package/{model_name}\",\n",
    "    \"us-east-2\": f\"arn:aws:sagemaker:us-east-2:057799348421:model-package/{model_name}\",\n",
    "    \"us-west-1\": f\"arn:aws:sagemaker:us-west-1:382657785993:model-package/{model_name}\",\n",
    "    \"us-west-2\": f\"arn:aws:sagemaker:us-west-2:594846645681:model-package/{model_name}\",\n",
    "    \"ca-central-1\": f\"arn:aws:sagemaker:ca-central-1:470592106596:model-package/{model_name}\",\n",
    "    \"eu-central-1\": f\"arn:aws:sagemaker:eu-central-1:446921602837:model-package/{model_name}\",\n",
    "    \"eu-west-1\": f\"arn:aws:sagemaker:eu-west-1:985815980388:model-package/{model_name}\",\n",
    "    \"eu-west-2\": f\"arn:aws:sagemaker:eu-west-2:856760150666:model-package/{model_name}\",\n",
    "    \"eu-west-3\": f\"arn:aws:sagemaker:eu-west-3:843114510376:model-package/{model_name}\",\n",
    "    \"eu-north-1\": f\"arn:aws:sagemaker:eu-north-1:136758871317:model-package/{model_name}\",\n",
    "    \"ap-southeast-1\": f\"arn:aws:sagemaker:ap-southeast-1:192199979996:model-package/{model_name}\",\n",
    "    \"ap-southeast-2\": f\"arn:aws:sagemaker:ap-southeast-2:666831318237:model-package/{model_name}\",\n",
    "    \"ap-northeast-2\": f\"arn:aws:sagemaker:ap-northeast-2:745090734665:model-package/{model_name}\",\n",
    "    \"ap-northeast-1\": f\"arn:aws:sagemaker:ap-northeast-1:977537786026:model-package/{model_name}\",\n",
    "    \"ap-south-1\": f\"arn:aws:sagemaker:ap-south-1:077584701553:model-package/{model_name}\",\n",
    "    \"sa-east-1\": f\"arn:aws:sagemaker:sa-east-1:270155090741:model-package/{model_name}\",\n",
    "}\n",
    "\n",
    "# Specify the model you want to use\n",
    "if region not in model_package_map.keys():\n",
    "    raise Exception(f\"Current boto3 session region {region} is not supported.\")\n",
    "\n",
    "model_package_arn = model_package_map[region]"
   ]
  },
  {
   "cell_type": "markdown",
   "metadata": {},
   "source": [
    "---"
   ]
  },
  {
   "cell_type": "markdown",
   "metadata": {},
   "source": [
    "# 2. Real-time inference\n",
    "\n",
    "To learn about real-time inference capabilities in Amazon SageMaker, please refer to the [Documentation](https://docs.aws.amazon.com/sagemaker/latest/dg/realtime-endpoints.html).\n",
    "\n",
    "Let's create an endpoint with static instances."
   ]
  },
  {
   "cell_type": "code",
   "execution_count": null,
   "metadata": {},
   "outputs": [],
   "source": [
    "from jina_sagemaker import Client\n",
    "\n",
    "client = Client(region_name=region)\n",
    "endpoint_name = \"my-endpoint\""
   ]
  },
  {
   "cell_type": "markdown",
   "metadata": {},
   "source": [
    "We can create a new endpoint using the `create_endpoint` method and passing the required parameters like `instance_type`, `n_instances` etc."
   ]
  },
  {
   "cell_type": "code",
   "execution_count": null,
   "metadata": {},
   "outputs": [],
   "source": [
    "client.create_endpoint(\n",
    "    arn=model_package_arn, \n",
    "    role=role, \n",
    "    endpoint_name=endpoint_name, \n",
    "    instance_type=\"ml.g4dn.xlarge\", \n",
    "    n_instances=1,\n",
    ")"
   ]
  },
  {
   "cell_type": "markdown",
   "metadata": {},
   "source": [
    "Or, we can connect to an existing endpoint using the `connect_to_endpoint` method by passing the endpoint name."
   ]
  },
  {
   "cell_type": "code",
   "execution_count": null,
   "metadata": {},
   "outputs": [],
   "source": [
    "client.connect_to_endpoint(endpoint_name=endpoint_name, arn=model_package_arn)"
   ]
  },
  {
   "cell_type": "markdown",
   "metadata": {},
   "source": [
    "## Perform real-time inference"
   ]
  },
  {
   "cell_type": "markdown",
   "metadata": {},
   "source": [
    "### Usage with `jina-sagemaker` sdk"
   ]
  },
  {
   "cell_type": "code",
   "execution_count": null,
   "metadata": {},
   "outputs": [],
   "source": [
    "# Text embed\n",
    "result = client.embed(\n",
    "    texts=[\n",
    "        \"how is the weather today\", \n",
    "        \"what is the weather like today\",\n",
    "        \"what's the color of an orange\",\n",
    "    ]\n",
    ")\n",
    "\n",
    "# Embed with more options (applies to `jina-embeddings-v3` and `jina-clip-v2` only)\n",
    "from jina_sagemaker import Task\n",
    "\n",
    "\n",
    "result = client.embed(\n",
    "    texts=[\n",
    "        \"how is the weather today\",\n",
    "        \"what is the weather like today\",\n",
    "        \"what's the color of an orange\",\n",
    "    ],\n",
    "    task_type=Task.TEXT_MATCHING,\n",
    "    dimensions=2,\n",
    "    late_chunking=True,\n",
    ")\n",
    "\n",
    "# Image embed (with `jina-clip-v1` \\ `jina-clip-v2`)\n",
    "result = client.embed(image_urls=[\"https://dummyimage.com/224x224/000/fff.jpg&text=embed+this\"])"
   ]
  },
  {
   "cell_type": "markdown",
   "metadata": {},
   "source": [
    "### Usage with aws-sdk\n",
    "\n",
    "Create a input file `input.json` with the following content (`parameters` applies to `jina-embeddings-v3` only)."
   ]
  },
  {
   "cell_type": "markdown",
   "metadata": {},
   "source": [
    "```json\n",
    "{\n",
    "    \"data\": [\n",
    "        {\n",
    "            \"text\": \"How is the weather today?\"\n",
    "        },\n",
    "        {\n",
    "            \"text\": \"What's the color of an orange?\"\n",
    "        }\n",
    "    ],\n",
    "    \"parameters\": {\n",
    "        \"task\": \"text-matching\",\n",
    "        \"late_chunking\": false,\n",
    "        \"dimensions\": 1024\n",
    "    } \n",
    "}\n",
    "```\n",
    "\n",
    "Run the AWS `invoke-endpoint` CLI."
   ]
  },
  {
   "cell_type": "code",
   "execution_count": null,
   "metadata": {
    "vscode": {
     "languageId": "bat"
    }
   },
   "outputs": [],
   "source": [
    "aws sagemaker-runtime invoke-endpoint \\\n",
    "--endpoint-name <endpoint-name> \\\n",
    "--content-type 'application/json' \\\n",
    "--body fileb://input.json \\\n",
    "output.json"
   ]
  },
  {
   "cell_type": "markdown",
   "metadata": {},
   "source": [
    "---"
   ]
  },
  {
   "cell_type": "markdown",
   "metadata": {},
   "source": [
    "# 3. Clean-up"
   ]
  },
  {
   "cell_type": "markdown",
   "metadata": {},
   "source": [
    "## A. Delete the model"
   ]
  },
  {
   "cell_type": "code",
   "execution_count": null,
   "metadata": {},
   "outputs": [],
   "source": [
    "client.delete_endpoint()\n",
    "client.close()"
   ]
  },
  {
   "cell_type": "markdown",
   "metadata": {},
   "source": [
    "## B. Unsubscribe to the listing (optional)\n",
    "\n",
    "If you would like to unsubscribe to the model package, follow these steps. Before you cancel the subscription, ensure that you do not have any [deployable model](https://console.aws.amazon.com/sagemaker/home#/models) created from the model package or using the algorithm. Note - You can find this information by looking at the container name associated with the model. \n",
    "\n",
    "**Steps to unsubscribe to product from AWS Marketplace**:\n",
    "1. Navigate to __Machine Learning__ tab on [__Your Software subscriptions page__](https://aws.amazon.com/marketplace/ai/library?productType=ml&ref_=mlmp_gitdemo_indust)\n",
    "2. Locate the listing that you want to cancel the subscription for, and then choose __Cancel Subscription__  to cancel the subscription.\n"
   ]
  }
 ],
 "metadata": {
  "kernelspec": {
   "display_name": "env",
   "language": "python",
   "name": "python3"
  },
  "language_info": {
   "codemirror_mode": {
    "name": "ipython",
    "version": 3
   },
   "file_extension": ".py",
   "mimetype": "text/x-python",
   "name": "python",
   "nbconvert_exporter": "python",
   "pygments_lexer": "ipython3",
   "version": "3.10.13"
  },
  "orig_nbformat": 4
 },
 "nbformat": 4,
 "nbformat_minor": 2
}
